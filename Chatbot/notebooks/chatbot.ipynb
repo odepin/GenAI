{
 "cells": [
  {
   "cell_type": "markdown",
   "id": "6270f25c",
   "metadata": {},
   "source": [
    "# LLM Project To Build and Fine Tune a Large Language Model\n",
    "\n",
    "The project uses a knowledge-based online shopping chatbot. \n"
   ]
  },
  {
   "cell_type": "markdown",
   "id": "3437c973",
   "metadata": {},
   "source": [
    "## Package Requirements\n"
   ]
  },
  {
   "cell_type": "code",
   "execution_count": null,
   "id": "820c1620-b5bd-43d9-988a-b4775c66ab32",
   "metadata": {},
   "outputs": [],
   "source": [
    "# Suppress all warning messages\n",
    "import warnings\n",
    "\n",
    "warnings.filterwarnings(\"ignore\")"
   ]
  },
  {
   "cell_type": "markdown",
   "id": "eb18deea",
   "metadata": {},
   "source": [
    "## Test Model on Streamlit\n",
    "\n",
    "Execute the cell below and a streamlit app will load. Select a dataset from the data/ folder, and interact with the chatbot."
   ]
  },
  {
   "cell_type": "code",
   "execution_count": null,
   "id": "f480fad7",
   "metadata": {},
   "outputs": [],
   "source": [
    "!streamlit run ../src/chatbot_app.py"
   ]
  }
 ],
 "metadata": {
  "kernelspec": {
   "display_name": ".chatbotvenv",
   "language": "python",
   "name": "python3"
  },
  "language_info": {
   "codemirror_mode": {
    "name": "ipython",
    "version": 3
   },
   "file_extension": ".py",
   "mimetype": "text/x-python",
   "name": "python",
   "nbconvert_exporter": "python",
   "pygments_lexer": "ipython3",
   "version": "3.11.13"
  }
 },
 "nbformat": 4,
 "nbformat_minor": 5
}
